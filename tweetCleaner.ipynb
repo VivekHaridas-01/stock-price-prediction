{
 "cells": [
  {
   "cell_type": "code",
   "execution_count": 5,
   "metadata": {},
   "outputs": [],
   "source": [
    "import nltk"
   ]
  },
  {
   "cell_type": "code",
   "execution_count": 35,
   "metadata": {},
   "outputs": [
    {
     "name": "stderr",
     "output_type": "stream",
     "text": [
      "[nltk_data] Downloading package stopwords to\n",
      "[nltk_data]     /home/skaarfacee/nltk_data...\n",
      "[nltk_data]   Package stopwords is already up-to-date!\n"
     ]
    }
   ],
   "source": [
    "nltk.download('stopwords')\n",
    "\n",
    "import re                                  \n",
    "import string                             \n",
    "from nltk.corpus import stopwords \n",
    "from nltk.stem import PorterStemmer\n",
    "# from nltk.tokenize import TweetTokenize\n",
    "from tqdm.auto import tqdm\n",
    "tqdm.pandas()"
   ]
  },
  {
   "cell_type": "code",
   "execution_count": null,
   "metadata": {},
   "outputs": [],
   "source": []
  },
  {
   "cell_type": "code",
   "execution_count": 62,
   "metadata": {},
   "outputs": [
    {
     "name": "stderr",
     "output_type": "stream",
     "text": [
      "[nltk_data] Downloading package stopwords to\n",
      "[nltk_data]     /home/skaarfacee/nltk_data...\n",
      "[nltk_data]   Package stopwords is already up-to-date!\n"
     ]
    }
   ],
   "source": [
    "import nltk\n",
    "from nltk.corpus import stopwords\n",
    "import time \n",
    "nltk.download('stopwords')\n",
    "stop = stopwords.words('english')\n",
    "def stopWordsData(data,col):\n",
    "    data[\"text\"] = data[col].progress_apply(lambda x: ' '.join([word for word in x.split() if word not in (stop)]))\n",
    "    return data"
   ]
  },
  {
   "cell_type": "code",
   "execution_count": 63,
   "metadata": {},
   "outputs": [],
   "source": [
    "import pandas as pd\n",
    "df=pd.read_csv('./scrapeTweets.csv',index_col=0)\n"
   ]
  },
  {
   "cell_type": "code",
   "execution_count": 64,
   "metadata": {},
   "outputs": [],
   "source": [
    "df=df.dropna()"
   ]
  },
  {
   "cell_type": "code",
   "execution_count": 65,
   "metadata": {},
   "outputs": [
    {
     "name": "stderr",
     "output_type": "stream",
     "text": [
      "100%|██████████| 1186/1186 [00:00<00:00, 20161.08it/s]\n"
     ]
    },
    {
     "data": {
      "text/html": [
       "<div>\n",
       "<style scoped>\n",
       "    .dataframe tbody tr th:only-of-type {\n",
       "        vertical-align: middle;\n",
       "    }\n",
       "\n",
       "    .dataframe tbody tr th {\n",
       "        vertical-align: top;\n",
       "    }\n",
       "\n",
       "    .dataframe thead th {\n",
       "        text-align: right;\n",
       "    }\n",
       "</style>\n",
       "<table border=\"1\" class=\"dataframe\">\n",
       "  <thead>\n",
       "    <tr style=\"text-align: right;\">\n",
       "      <th></th>\n",
       "      <th>username</th>\n",
       "      <th>following</th>\n",
       "      <th>followers</th>\n",
       "      <th>retweetcount</th>\n",
       "      <th>text</th>\n",
       "      <th>DD</th>\n",
       "    </tr>\n",
       "  </thead>\n",
       "  <tbody>\n",
       "    <tr>\n",
       "      <th>0</th>\n",
       "      <td>adamu3820</td>\n",
       "      <td>1508.0</td>\n",
       "      <td>910.0</td>\n",
       "      <td>0.0</td>\n",
       "      <td>DATA &amp;gt; OPINION... {INNOVATION} How Do Big T...</td>\n",
       "      <td>2016-01-04</td>\n",
       "    </tr>\n",
       "    <tr>\n",
       "      <th>1</th>\n",
       "      <td>Himartist1</td>\n",
       "      <td>271.0</td>\n",
       "      <td>38.0</td>\n",
       "      <td>102.0</td>\n",
       "      <td>$FB $AAPL $AMZN $NFLX &amp;amp; $GOOGL lost $1 tri...</td>\n",
       "      <td>2016-01-05</td>\n",
       "    </tr>\n",
       "    <tr>\n",
       "      <th>2</th>\n",
       "      <td>ClashClav</td>\n",
       "      <td>191.0</td>\n",
       "      <td>116.0</td>\n",
       "      <td>6.0</td>\n",
       "      <td>Falling .. $AAPL 🎯 = $133 $118 ; $MSFT 🎯 = $26...</td>\n",
       "      <td>2016-01-06</td>\n",
       "    </tr>\n",
       "    <tr>\n",
       "      <th>3</th>\n",
       "      <td>BelindaCroft3</td>\n",
       "      <td>35.0</td>\n",
       "      <td>3.0</td>\n",
       "      <td>18.0</td>\n",
       "      <td>In real terms, US stocks pace worst year since...</td>\n",
       "      <td>2016-01-07</td>\n",
       "    </tr>\n",
       "    <tr>\n",
       "      <th>4</th>\n",
       "      <td>BobBarnesdesk</td>\n",
       "      <td>3978.0</td>\n",
       "      <td>1958.0</td>\n",
       "      <td>102.0</td>\n",
       "      <td>$FB $AAPL $AMZN $NFLX &amp;amp; $GOOGL lost $1 tri...</td>\n",
       "      <td>2016-01-08</td>\n",
       "    </tr>\n",
       "  </tbody>\n",
       "</table>\n",
       "</div>"
      ],
      "text/plain": [
       "        username  following  followers  retweetcount  \\\n",
       "0      adamu3820     1508.0      910.0           0.0   \n",
       "1     Himartist1      271.0       38.0         102.0   \n",
       "2      ClashClav      191.0      116.0           6.0   \n",
       "3  BelindaCroft3       35.0        3.0          18.0   \n",
       "4  BobBarnesdesk     3978.0     1958.0         102.0   \n",
       "\n",
       "                                                text          DD  \n",
       "0  DATA &gt; OPINION... {INNOVATION} How Do Big T...  2016-01-04  \n",
       "1  $FB $AAPL $AMZN $NFLX &amp; $GOOGL lost $1 tri...  2016-01-05  \n",
       "2  Falling .. $AAPL 🎯 = $133 $118 ; $MSFT 🎯 = $26...  2016-01-06  \n",
       "3  In real terms, US stocks pace worst year since...  2016-01-07  \n",
       "4  $FB $AAPL $AMZN $NFLX &amp; $GOOGL lost $1 tri...  2016-01-08  "
      ]
     },
     "execution_count": 65,
     "metadata": {},
     "output_type": "execute_result"
    }
   ],
   "source": [
    "data=stopWordsData(df,'text')\n",
    "data.head(5)"
   ]
  },
  {
   "cell_type": "code",
   "execution_count": 66,
   "metadata": {},
   "outputs": [],
   "source": [
    "import string\n",
    "import re\n",
    "def rem_pun(txt):\n",
    "  tmp=[''.join(re.sub(r'<.*?>','@',word)) for word in txt.split(' ')]\n",
    "  txt=' '.join([c for c in tmp])\n",
    "  txt=\"\".join([c for c in txt if c not in string.punctuation])\n",
    "  return txt\n",
    "def removeSpecialChars(data):\n",
    "    data[\"text\"] = data[\"text\"].progress_apply(lambda x: rem_pun(x))\n",
    "    return data"
   ]
  },
  {
   "cell_type": "code",
   "execution_count": 67,
   "metadata": {},
   "outputs": [
    {
     "name": "stderr",
     "output_type": "stream",
     "text": [
      "100%|██████████| 1186/1186 [00:00<00:00, 28691.49it/s]\n"
     ]
    },
    {
     "data": {
      "text/html": [
       "<div>\n",
       "<style scoped>\n",
       "    .dataframe tbody tr th:only-of-type {\n",
       "        vertical-align: middle;\n",
       "    }\n",
       "\n",
       "    .dataframe tbody tr th {\n",
       "        vertical-align: top;\n",
       "    }\n",
       "\n",
       "    .dataframe thead th {\n",
       "        text-align: right;\n",
       "    }\n",
       "</style>\n",
       "<table border=\"1\" class=\"dataframe\">\n",
       "  <thead>\n",
       "    <tr style=\"text-align: right;\">\n",
       "      <th></th>\n",
       "      <th>username</th>\n",
       "      <th>following</th>\n",
       "      <th>followers</th>\n",
       "      <th>retweetcount</th>\n",
       "      <th>text</th>\n",
       "      <th>DD</th>\n",
       "    </tr>\n",
       "  </thead>\n",
       "  <tbody>\n",
       "    <tr>\n",
       "      <th>0</th>\n",
       "      <td>adamu3820</td>\n",
       "      <td>1508.0</td>\n",
       "      <td>910.0</td>\n",
       "      <td>0.0</td>\n",
       "      <td>DATA gt OPINION INNOVATION How Do Big Tech Gia...</td>\n",
       "      <td>2016-01-04</td>\n",
       "    </tr>\n",
       "    <tr>\n",
       "      <th>1</th>\n",
       "      <td>Himartist1</td>\n",
       "      <td>271.0</td>\n",
       "      <td>38.0</td>\n",
       "      <td>102.0</td>\n",
       "      <td>FB AAPL AMZN NFLX amp GOOGL lost 1 trillion va...</td>\n",
       "      <td>2016-01-05</td>\n",
       "    </tr>\n",
       "    <tr>\n",
       "      <th>2</th>\n",
       "      <td>ClashClav</td>\n",
       "      <td>191.0</td>\n",
       "      <td>116.0</td>\n",
       "      <td>6.0</td>\n",
       "      <td>Falling  AAPL 🎯  133 118  MSFT 🎯  265 amp 240 ...</td>\n",
       "      <td>2016-01-06</td>\n",
       "    </tr>\n",
       "    <tr>\n",
       "      <th>3</th>\n",
       "      <td>BelindaCroft3</td>\n",
       "      <td>35.0</td>\n",
       "      <td>3.0</td>\n",
       "      <td>18.0</td>\n",
       "      <td>In real terms US stocks pace worst year since ...</td>\n",
       "      <td>2016-01-07</td>\n",
       "    </tr>\n",
       "    <tr>\n",
       "      <th>4</th>\n",
       "      <td>BobBarnesdesk</td>\n",
       "      <td>3978.0</td>\n",
       "      <td>1958.0</td>\n",
       "      <td>102.0</td>\n",
       "      <td>FB AAPL AMZN NFLX amp GOOGL lost 1 trillion va...</td>\n",
       "      <td>2016-01-08</td>\n",
       "    </tr>\n",
       "  </tbody>\n",
       "</table>\n",
       "</div>"
      ],
      "text/plain": [
       "        username  following  followers  retweetcount  \\\n",
       "0      adamu3820     1508.0      910.0           0.0   \n",
       "1     Himartist1      271.0       38.0         102.0   \n",
       "2      ClashClav      191.0      116.0           6.0   \n",
       "3  BelindaCroft3       35.0        3.0          18.0   \n",
       "4  BobBarnesdesk     3978.0     1958.0         102.0   \n",
       "\n",
       "                                                text          DD  \n",
       "0  DATA gt OPINION INNOVATION How Do Big Tech Gia...  2016-01-04  \n",
       "1  FB AAPL AMZN NFLX amp GOOGL lost 1 trillion va...  2016-01-05  \n",
       "2  Falling  AAPL 🎯  133 118  MSFT 🎯  265 amp 240 ...  2016-01-06  \n",
       "3  In real terms US stocks pace worst year since ...  2016-01-07  \n",
       "4  FB AAPL AMZN NFLX amp GOOGL lost 1 trillion va...  2016-01-08  "
      ]
     },
     "execution_count": 67,
     "metadata": {},
     "output_type": "execute_result"
    }
   ],
   "source": [
    "data=removeSpecialChars(data)\n",
    "data.head(5)"
   ]
  },
  {
   "cell_type": "code",
   "execution_count": 68,
   "metadata": {},
   "outputs": [],
   "source": [
    "import re\n",
    "def remove_emoji(string):\n",
    "    emoji_pattern = re.compile(\"[\"\n",
    "                           u\"\\U0001F600-\\U0001F64F\"  # emoticons\n",
    "                           u\"\\U0001F300-\\U0001F5FF\"  # symbols & pictographs\n",
    "                           u\"\\U0001F680-\\U0001F6FF\"  # transport & map symbols\n",
    "                           u\"\\U0001F1E0-\\U0001F1FF\"  # flags (iOS)\n",
    "                           u\"\\U00002702-\\U000027B0\"\n",
    "                           u\"\\U000024C2-\\U0001F251\"\n",
    "                           \"]+\", flags=re.UNICODE)\n",
    "    return emoji_pattern.sub(r'', string)"
   ]
  },
  {
   "cell_type": "code",
   "execution_count": 69,
   "metadata": {},
   "outputs": [
    {
     "name": "stderr",
     "output_type": "stream",
     "text": [
      "100%|██████████| 1186/1186 [00:00<00:00, 155025.07it/s]\n"
     ]
    }
   ],
   "source": [
    "data['text']=data['text'].progress_apply(lambda x: remove_emoji(x))"
   ]
  },
  {
   "cell_type": "code",
   "execution_count": 71,
   "metadata": {},
   "outputs": [
    {
     "data": {
      "text/html": [
       "<div>\n",
       "<style scoped>\n",
       "    .dataframe tbody tr th:only-of-type {\n",
       "        vertical-align: middle;\n",
       "    }\n",
       "\n",
       "    .dataframe tbody tr th {\n",
       "        vertical-align: top;\n",
       "    }\n",
       "\n",
       "    .dataframe thead th {\n",
       "        text-align: right;\n",
       "    }\n",
       "</style>\n",
       "<table border=\"1\" class=\"dataframe\">\n",
       "  <thead>\n",
       "    <tr style=\"text-align: right;\">\n",
       "      <th></th>\n",
       "      <th>username</th>\n",
       "      <th>following</th>\n",
       "      <th>followers</th>\n",
       "      <th>retweetcount</th>\n",
       "      <th>text</th>\n",
       "      <th>DD</th>\n",
       "    </tr>\n",
       "  </thead>\n",
       "  <tbody>\n",
       "    <tr>\n",
       "      <th>0</th>\n",
       "      <td>adamu3820</td>\n",
       "      <td>1508.0</td>\n",
       "      <td>910.0</td>\n",
       "      <td>0.0</td>\n",
       "      <td>DATA gt OPINION INNOVATION How Do Big Tech Gia...</td>\n",
       "      <td>2016-01-04</td>\n",
       "    </tr>\n",
       "    <tr>\n",
       "      <th>1</th>\n",
       "      <td>Himartist1</td>\n",
       "      <td>271.0</td>\n",
       "      <td>38.0</td>\n",
       "      <td>102.0</td>\n",
       "      <td>FB AAPL AMZN NFLX amp GOOGL lost 1 trillion va...</td>\n",
       "      <td>2016-01-05</td>\n",
       "    </tr>\n",
       "    <tr>\n",
       "      <th>2</th>\n",
       "      <td>ClashClav</td>\n",
       "      <td>191.0</td>\n",
       "      <td>116.0</td>\n",
       "      <td>6.0</td>\n",
       "      <td>Falling  AAPL   133 118  MSFT   265 amp 240 ht...</td>\n",
       "      <td>2016-01-06</td>\n",
       "    </tr>\n",
       "    <tr>\n",
       "      <th>3</th>\n",
       "      <td>BelindaCroft3</td>\n",
       "      <td>35.0</td>\n",
       "      <td>3.0</td>\n",
       "      <td>18.0</td>\n",
       "      <td>In real terms US stocks pace worst year since ...</td>\n",
       "      <td>2016-01-07</td>\n",
       "    </tr>\n",
       "    <tr>\n",
       "      <th>4</th>\n",
       "      <td>BobBarnesdesk</td>\n",
       "      <td>3978.0</td>\n",
       "      <td>1958.0</td>\n",
       "      <td>102.0</td>\n",
       "      <td>FB AAPL AMZN NFLX amp GOOGL lost 1 trillion va...</td>\n",
       "      <td>2016-01-08</td>\n",
       "    </tr>\n",
       "  </tbody>\n",
       "</table>\n",
       "</div>"
      ],
      "text/plain": [
       "        username  following  followers  retweetcount  \\\n",
       "0      adamu3820     1508.0      910.0           0.0   \n",
       "1     Himartist1      271.0       38.0         102.0   \n",
       "2      ClashClav      191.0      116.0           6.0   \n",
       "3  BelindaCroft3       35.0        3.0          18.0   \n",
       "4  BobBarnesdesk     3978.0     1958.0         102.0   \n",
       "\n",
       "                                                text          DD  \n",
       "0  DATA gt OPINION INNOVATION How Do Big Tech Gia...  2016-01-04  \n",
       "1  FB AAPL AMZN NFLX amp GOOGL lost 1 trillion va...  2016-01-05  \n",
       "2  Falling  AAPL   133 118  MSFT   265 amp 240 ht...  2016-01-06  \n",
       "3  In real terms US stocks pace worst year since ...  2016-01-07  \n",
       "4  FB AAPL AMZN NFLX amp GOOGL lost 1 trillion va...  2016-01-08  "
      ]
     },
     "execution_count": 71,
     "metadata": {},
     "output_type": "execute_result"
    }
   ],
   "source": [
    "data.head()"
   ]
  },
  {
   "cell_type": "code",
   "execution_count": 72,
   "metadata": {},
   "outputs": [],
   "source": [
    "data.to_csv('cleanTweets.csv')"
   ]
  },
  {
   "cell_type": "code",
   "execution_count": null,
   "metadata": {},
   "outputs": [],
   "source": []
  }
 ],
 "metadata": {
  "interpreter": {
   "hash": "a5a89783ad04f55ca0c80a229ebd828d65d2cd12f2b92921442efea26c0f05e2"
  },
  "kernelspec": {
   "display_name": "Python 3.9.5 ('venv': venv)",
   "language": "python",
   "name": "python3"
  },
  "language_info": {
   "codemirror_mode": {
    "name": "ipython",
    "version": 3
   },
   "file_extension": ".py",
   "mimetype": "text/x-python",
   "name": "python",
   "nbconvert_exporter": "python",
   "pygments_lexer": "ipython3",
   "version": "3.9.5"
  },
  "orig_nbformat": 4
 },
 "nbformat": 4,
 "nbformat_minor": 2
}
